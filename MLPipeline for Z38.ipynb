{
 "cells": [
  {
   "cell_type": "markdown",
   "metadata": {},
   "source": [
    "# Start Spark Application"
   ]
  },
  {
   "cell_type": "code",
   "execution_count": 1,
   "metadata": {},
   "outputs": [
    {
     "data": {
      "application/vnd.jupyter.widget-view+json": {
       "model_id": "85dd4249b8374a73a41ad243e14c8096",
       "version_major": 2,
       "version_minor": 0
      },
      "text/plain": [
       "VBox()"
      ]
     },
     "metadata": {},
     "output_type": "display_data"
    },
    {
     "name": "stdout",
     "output_type": "stream",
     "text": [
      "Starting Spark application\n"
     ]
    },
    {
     "data": {
      "text/html": [
       "<table>\n",
       "<tr><th>ID</th><th>YARN Application ID</th><th>Kind</th><th>State</th><th>Spark UI</th><th>Driver log</th><th>Current session?</th></tr><tr><td>2</td><td>application_1574439421230_0003</td><td>spark</td><td>idle</td><td><a target=\"_blank\" href=\"http://ip-172-31-34-232.us-east-2.compute.internal:20888/proxy/application_1574439421230_0003/\">Link</a></td><td><a target=\"_blank\" href=\"http://ip-172-31-35-182.us-east-2.compute.internal:8042/node/containerlogs/container_1574439421230_0003_01_000001/livy\">Link</a></td><td>✔</td></tr></table>"
      ],
      "text/plain": [
       "<IPython.core.display.HTML object>"
      ]
     },
     "metadata": {},
     "output_type": "display_data"
    },
    {
     "data": {
      "application/vnd.jupyter.widget-view+json": {
       "model_id": "",
       "version_major": 2,
       "version_minor": 0
      },
      "text/plain": [
       "FloatProgress(value=0.0, bar_style='info', description='Progress:', layout=Layout(height='25px', width='50%'),…"
      ]
     },
     "metadata": {},
     "output_type": "display_data"
    },
    {
     "name": "stdout",
     "output_type": "stream",
     "text": [
      "SparkSession available as 'spark'.\n"
     ]
    },
    {
     "data": {
      "application/vnd.jupyter.widget-view+json": {
       "model_id": "",
       "version_major": 2,
       "version_minor": 0
      },
      "text/plain": [
       "FloatProgress(value=0.0, bar_style='info', description='Progress:', layout=Layout(height='25px', width='50%'),…"
      ]
     },
     "metadata": {},
     "output_type": "display_data"
    },
    {
     "name": "stdout",
     "output_type": "stream",
     "text": [
      "import org.apache.spark.ml._\n",
      "import org.apache.spark.ml.feature._\n",
      "import org.apache.spark.ml.linalg._\n",
      "import org.apache.spark.rdd.RDD\n",
      "import org.apache.spark.sql._\n",
      "import org.apache.spark.sql.functions._\n",
      "s3Prefix: String = s3://\n",
      "s3BucketName: String = dalin-ml-pipeline\n",
      "dataSourcePath: String = /transformed-csv/*.csv\n",
      "sageMakerInputPrefix: String = sagemaker/trainingInput\n",
      "sageMakerOutputPrefix: String = sagemaker/trainingOutput/XGBoost\n",
      "sageMakerRoleArn: String = arn:aws:iam::263690384742:role/SparkSageMakerRole\n",
      "spark: org.apache.spark.sql.SparkSession = org.apache.spark.sql.SparkSession@1c4a25e1\n"
     ]
    }
   ],
   "source": [
    "import org.apache.spark.ml._\n",
    "import org.apache.spark.ml.feature._\n",
    "import org.apache.spark.ml.linalg._\n",
    "import org.apache.spark.rdd.RDD\n",
    "import org.apache.spark.sql._\n",
    "import org.apache.spark.sql.functions._\n",
    "\n",
    "val s3Prefix = \"s3://\"\n",
    "val s3BucketName = \"dalin-ml-pipeline\"\n",
    "val dataSourcePath = \"/transformed-csv/*.csv\"\n",
    "\n",
    "val sageMakerInputPrefix = \"sagemaker/trainingInput\"\n",
    "val sageMakerOutputPrefix = \"sagemaker/trainingOutput/XGBoost\"\n",
    "val sageMakerRoleArn = \"arn:aws:iam::263690384742:role/SparkSageMakerRole\"\n",
    "\n",
    "val spark = SparkSession.builder.getOrCreate"
   ]
  },
  {
   "cell_type": "markdown",
   "metadata": {},
   "source": [
    "***\n",
    "***\n",
    "# Load Transformed Data from S3 \n",
    "### data stored in s3://dalin-ml-pipeline/transformed-csv/*csv"
   ]
  },
  {
   "cell_type": "code",
   "execution_count": 2,
   "metadata": {},
   "outputs": [
    {
     "data": {
      "application/vnd.jupyter.widget-view+json": {
       "model_id": "d34c88967c974f10beade097d2f6a27a",
       "version_major": 2,
       "version_minor": 0
      },
      "text/plain": [
       "VBox()"
      ]
     },
     "metadata": {},
     "output_type": "display_data"
    },
    {
     "data": {
      "application/vnd.jupyter.widget-view+json": {
       "model_id": "",
       "version_major": 2,
       "version_minor": 0
      },
      "text/plain": [
       "FloatProgress(value=0.0, bar_style='info', description='Progress:', layout=Layout(height='25px', width='50%'),…"
      ]
     },
     "metadata": {},
     "output_type": "display_data"
    },
    {
     "name": "stdout",
     "output_type": "stream",
     "text": [
      "import spark.implicits._\n",
      "originalDF: org.apache.spark.sql.DataFrame = [AGE: string, AGE_NEONATE: string ... 96 more fields]\n"
     ]
    }
   ],
   "source": [
    "import spark.implicits._\n",
    "val originalDF = spark.read.format(\"csv\").\n",
    "    option(\"header\", \"true\").\n",
    "    load(s\"$s3Prefix$s3BucketName$dataSourcePath\").\n",
    "    withColumnRenamed(\"TOTCHG\", \"label\")"
   ]
  },
  {
   "cell_type": "markdown",
   "metadata": {},
   "source": [
    "***\n",
    "***\n",
    "# Select Data with Single Dianosis Category and Single Procedure\n",
    "\n",
    "### ICD-10-CM: Z38 - Liveborn infants according to place of birth and type of delivery</p>\n",
    "> ICD-10-CM refers to International Classification of Diseases, 10th Revision, Clinical Modification provided by the Centers for Medicare and Medicaid Services and the National Center for Health Statistics, for medical coding and reporting in the United States. (Wikipedia)\n",
    "\n",
    ">The first three characters of an ICD-10 code designate the category of the diagnosis.\n",
    "\n",
    "Link to [ICD Codes](https://icd.codes)"
   ]
  },
  {
   "cell_type": "code",
   "execution_count": 3,
   "metadata": {},
   "outputs": [
    {
     "data": {
      "application/vnd.jupyter.widget-view+json": {
       "model_id": "6cc68ea4905941f8ade9e2c7ce490c30",
       "version_major": 2,
       "version_minor": 0
      },
      "text/plain": [
       "VBox()"
      ]
     },
     "metadata": {},
     "output_type": "display_data"
    },
    {
     "data": {
      "application/vnd.jupyter.widget-view+json": {
       "model_id": "",
       "version_major": 2,
       "version_minor": 0
      },
      "text/plain": [
       "FloatProgress(value=0.0, bar_style='info', description='Progress:', layout=Layout(height='25px', width='50%'),…"
      ]
     },
     "metadata": {},
     "output_type": "display_data"
    },
    {
     "name": "stdout",
     "output_type": "stream",
     "text": [
      "import spark.implicits._\n",
      "oneDiagDF: org.apache.spark.sql.Dataset[org.apache.spark.sql.Row] = [AGE: string, AGE_NEONATE: string ... 96 more fields]\n"
     ]
    }
   ],
   "source": [
    "import spark.implicits._\n",
    "val oneDiagDF = originalDF.filter($\"I10_DX2\".isNull && \n",
    "                                  $\"I10_DX1\".isNotNull && \n",
    "                                  $\"I10_PR2\".isNull && \n",
    "                                  $\"I10_PR1\".isNotNull &&\n",
    "                                  $\"I10_DX1\".contains(\"Z38\"))"
   ]
  },
  {
   "cell_type": "code",
   "execution_count": 4,
   "metadata": {},
   "outputs": [
    {
     "data": {
      "application/vnd.jupyter.widget-view+json": {
       "model_id": "f26a9905598c457db9e265b13c6211e2",
       "version_major": 2,
       "version_minor": 0
      },
      "text/plain": [
       "VBox()"
      ]
     },
     "metadata": {},
     "output_type": "display_data"
    },
    {
     "data": {
      "application/vnd.jupyter.widget-view+json": {
       "model_id": "",
       "version_major": 2,
       "version_minor": 0
      },
      "text/plain": [
       "FloatProgress(value=0.0, bar_style='info', description='Progress:', layout=Layout(height='25px', width='50%'),…"
      ]
     },
     "metadata": {},
     "output_type": "display_data"
    },
    {
     "name": "stdout",
     "output_type": "stream",
     "text": [
      "res4: Long = 27118\n"
     ]
    }
   ],
   "source": [
    "oneDiagDF.count"
   ]
  },
  {
   "cell_type": "markdown",
   "metadata": {},
   "source": [
    "***\n",
    "***\n",
    "# Convert and Clean Data\n",
    "### Convert all 14 numeric columns to double type and remove invalid/missing values"
   ]
  },
  {
   "cell_type": "code",
   "execution_count": 5,
   "metadata": {},
   "outputs": [
    {
     "data": {
      "application/vnd.jupyter.widget-view+json": {
       "model_id": "17f9de858dbe4a75a8fe01ae53d9113a",
       "version_major": 2,
       "version_minor": 0
      },
      "text/plain": [
       "VBox()"
      ]
     },
     "metadata": {},
     "output_type": "display_data"
    },
    {
     "data": {
      "application/vnd.jupyter.widget-view+json": {
       "model_id": "",
       "version_major": 2,
       "version_minor": 0
      },
      "text/plain": [
       "FloatProgress(value=0.0, bar_style='info', description='Progress:', layout=Layout(height='25px', width='50%'),…"
      ]
     },
     "metadata": {},
     "output_type": "display_data"
    },
    {
     "name": "stdout",
     "output_type": "stream",
     "text": [
      "numericColumns: Array[String] = Array(label, AGE, AGE_NEONATE, AMONTH, AWEEKEND, DIED, DQTR, ELECTIVE, FEMALE, HCUP_ED, I10_NDX, I10_NECAUSE, I10_NPR, LOS)\n",
      "toDouble: org.apache.spark.sql.expressions.UserDefinedFunction = UserDefinedFunction(<function2>,DoubleType,Some(List(StringType, IntegerType)))\n",
      "convertedDF: org.apache.spark.sql.Dataset[org.apache.spark.sql.Row] = [AGE: string, AGE_NEONATE: string ... 96 more fields]\n",
      "filteredDF: org.apache.spark.sql.Dataset[org.apache.spark.sql.Row] = [AGE: double, AGE_NEONATE: double ... 96 more fields]\n"
     ]
    }
   ],
   "source": [
    "val numericColumns = Array(\"label\",\"AGE\",\"AGE_NEONATE\",\"AMONTH\",\"AWEEKEND\",\n",
    "                           \"DIED\",\"DQTR\",\"ELECTIVE\",\"FEMALE\",\"HCUP_ED\",\n",
    "                           \"I10_NDX\",\"I10_NECAUSE\",\"I10_NPR\",\"LOS\")\n",
    "\n",
    "val toDouble = udf((s: String, lowerLimit: Int) => {\n",
    "  if (s != null && (s forall Character.isDigit) && s.toDouble >= lowerLimit) s.toDouble else -1\n",
    "})\n",
    "\n",
    "var convertedDF = oneDiagDF\n",
    "for (colName <- numericColumns) {\n",
    "  convertedDF = convertedDF.withColumn(colName, toDouble(col(colName), lit(0)))\n",
    "}\n",
    "var filteredDF = convertedDF\n",
    "for (colName <- numericColumns) {\n",
    "  filteredDF = filteredDF.filter(col(colName) >= 0)\n",
    "}\n",
    "\n",
    "filteredDF.persist"
   ]
  },
  {
   "cell_type": "code",
   "execution_count": 6,
   "metadata": {},
   "outputs": [
    {
     "data": {
      "application/vnd.jupyter.widget-view+json": {
       "model_id": "b3f8dbc58ee34bd6acdfbc6def8dbdf7",
       "version_major": 2,
       "version_minor": 0
      },
      "text/plain": [
       "VBox()"
      ]
     },
     "metadata": {},
     "output_type": "display_data"
    },
    {
     "data": {
      "application/vnd.jupyter.widget-view+json": {
       "model_id": "",
       "version_major": 2,
       "version_minor": 0
      },
      "text/plain": [
       "FloatProgress(value=0.0, bar_style='info', description='Progress:', layout=Layout(height='25px', width='50%'),…"
      ]
     },
     "metadata": {},
     "output_type": "display_data"
    },
    {
     "name": "stdout",
     "output_type": "stream",
     "text": [
      "res9: Long = 26926\n"
     ]
    }
   ],
   "source": [
    "filteredDF.count"
   ]
  },
  {
   "cell_type": "code",
   "execution_count": 28,
   "metadata": {},
   "outputs": [
    {
     "data": {
      "application/vnd.jupyter.widget-view+json": {
       "model_id": "228e1bd619c54b8bb19723ece3354d34",
       "version_major": 2,
       "version_minor": 0
      },
      "text/plain": [
       "VBox()"
      ]
     },
     "metadata": {},
     "output_type": "display_data"
    },
    {
     "data": {
      "application/vnd.jupyter.widget-view+json": {
       "model_id": "",
       "version_major": 2,
       "version_minor": 0
      },
      "text/plain": [
       "FloatProgress(value=0.0, bar_style='info', description='Progress:', layout=Layout(height='25px', width='50%'),…"
      ]
     },
     "metadata": {},
     "output_type": "display_data"
    },
    {
     "name": "stdout",
     "output_type": "stream",
     "text": [
      "+-------+------------------+\n",
      "|summary|             label|\n",
      "+-------+------------------+\n",
      "|  count|             26926|\n",
      "|   mean| 4949.703706454728|\n",
      "| stddev|15824.614852175408|\n",
      "|    min|             125.0|\n",
      "|    max|          984109.0|\n",
      "+-------+------------------+\n",
      "\n"
     ]
    }
   ],
   "source": [
    "filteredDF.select(\"label\").describe().show"
   ]
  },
  {
   "cell_type": "markdown",
   "metadata": {},
   "source": [
    "***\n",
    "***\n",
    "# Select Features\n",
    "### Simple Correlation-based Selection"
   ]
  },
  {
   "cell_type": "code",
   "execution_count": 7,
   "metadata": {},
   "outputs": [
    {
     "data": {
      "application/vnd.jupyter.widget-view+json": {
       "model_id": "6e86768db5b84fe08bbeb79fdf1b857b",
       "version_major": 2,
       "version_minor": 0
      },
      "text/plain": [
       "VBox()"
      ]
     },
     "metadata": {},
     "output_type": "display_data"
    },
    {
     "data": {
      "application/vnd.jupyter.widget-view+json": {
       "model_id": "",
       "version_major": 2,
       "version_minor": 0
      },
      "text/plain": [
       "FloatProgress(value=0.0, bar_style='info', description='Progress:', layout=Layout(height='25px', width='50%'),…"
      ]
     },
     "metadata": {},
     "output_type": "display_data"
    },
    {
     "name": "stdout",
     "output_type": "stream",
     "text": [
      "import org.apache.spark.ml.linalg.{Vector, Vectors}\n",
      "import org.apache.spark.ml.stat.ChiSquareTest\n",
      "with label: 1.0\n",
      "with AGE: NaN\n",
      "with AGE_NEONATE: -4.992307632582235E-4\n",
      "with AMONTH: 0.022599905130392103\n",
      "with AWEEKEND: -0.010414153296519459\n",
      "with DIED: 0.09640357162165142\n",
      "with DQTR: 0.016621095690527915\n",
      "with ELECTIVE: -6.748808916453234E-4\n",
      "with FEMALE: 0.04331380534715562\n",
      "with HCUP_ED: 0.010142957421192722\n",
      "with I10_NDX: NaN\n",
      "with I10_NECAUSE: 0.14824665403808263\n",
      "with I10_NPR: NaN\n",
      "with LOS: 0.8254548216058005\n"
     ]
    }
   ],
   "source": [
    "import org.apache.spark.ml.linalg.{Vector, Vectors}\n",
    "import org.apache.spark.ml.stat.ChiSquareTest\n",
    "\n",
    "for (colName <- numericColumns) {\n",
    "  println(s\"with ${colName}: \" + filteredDF.stat.corr(\"label\", colName))\n",
    "}\n",
    "\n",
    "// Z38\n",
    "// with label: 1.0\n",
    "// with AGE: NaN\n",
    "// with AGE_NEONATE: -4.992307632581688E-4\n",
    "// with AMONTH: 0.0225999051303921\n",
    "// with AWEEKEND: -0.010414153296519457\n",
    "// with DIED: 0.09640357162165143\n",
    "// with DQTR: 0.016621095690527915\n",
    "// with ELECTIVE: -6.74880891645323E-4\n",
    "// with FEMALE: 0.04331380534715562\n",
    "// with HCUP_ED: 0.010142957421192726\n",
    "// with I10_NDX: NaN\n",
    "// with I10_NECAUSE: 0.14824665403808263\n",
    "// with I10_NPR: NaN\n",
    "// with LOS: 0.8254548216058005"
   ]
  },
  {
   "cell_type": "markdown",
   "metadata": {},
   "source": [
    "***\n",
    "***\n",
    "# Understand Selected Features<br>\n",
    "## Nominal Feature: ICD-10CM\n",
    "### Subcategory of Z38\n",
    "\n",
    "1. Z3800: Single liveborn infant, delivered vaginally\n",
    "2. Z3801: Single liveborn infant, delivered by cesarean\n",
    "3. Z3831: Twin liveborn infant, delivered by cesarean\n",
    "4. Z3830: Twin liveborn infant, delivered vaginally\n",
    "5. Z381: Single liveborn infant, born outside hospital\n",
    "6. Z382: Single liveborn infant, unspecified as to place of birth\n",
    "7. Z3862: Triplet liveborn infant, delivered by cesarean\n",
    "8. Z384: Twin liveborn infant, born outside hospital"
   ]
  },
  {
   "cell_type": "code",
   "execution_count": 8,
   "metadata": {},
   "outputs": [
    {
     "data": {
      "application/vnd.jupyter.widget-view+json": {
       "model_id": "7726be9e3ab047148be563f5c7d0bf80",
       "version_major": 2,
       "version_minor": 0
      },
      "text/plain": [
       "VBox()"
      ]
     },
     "metadata": {},
     "output_type": "display_data"
    },
    {
     "data": {
      "application/vnd.jupyter.widget-view+json": {
       "model_id": "",
       "version_major": 2,
       "version_minor": 0
      },
      "text/plain": [
       "FloatProgress(value=0.0, bar_style='info', description='Progress:', layout=Layout(height='25px', width='50%'),…"
      ]
     },
     "metadata": {},
     "output_type": "display_data"
    },
    {
     "name": "stdout",
     "output_type": "stream",
     "text": [
      "+-------+-----+\n",
      "|I10_DX1|count|\n",
      "+-------+-----+\n",
      "|  Z3800|19117|\n",
      "|  Z3801| 7328|\n",
      "|  Z3831|  325|\n",
      "|  Z3830|  104|\n",
      "|   Z381|   40|\n",
      "|   Z382|    6|\n",
      "|  Z3862|    5|\n",
      "|   Z384|    1|\n",
      "+-------+-----+\n",
      "\n"
     ]
    }
   ],
   "source": [
    "filteredDF.select(\"I10_DX1\").groupBy(\"I10_DX1\").count.sort(desc(\"count\")).show"
   ]
  },
  {
   "cell_type": "markdown",
   "metadata": {},
   "source": [
    "***\n",
    "## Nominal Feature: ICD-10-PCS\n",
    "### List of Single Procedure Associated with Z38\n",
    "### Top 5 ICD-10-PCS Procedures\n",
    "1. 0VTTXZZ: Resection of Prepuce, External Approach\n",
    "2. F13Z0ZZ: Hearing Screening Assessment\n",
    "3. 3E0234Z: Introduction of Serum, Toxoid and Vaccine into Muscle, Percutaneous Approach\n",
    "4. F13ZM6Z: Evoked Otoacoustic Emissions, Screening Assessment using Otoacoustic Emission (OAE) Equipment\n",
    "5. F13Z01Z: Hearing Screening Assessment using Audiometer\n",
    "\n",
    "<p><br><br>Some of the other main procedure categories include:</p>\n",
    "\n",
    "- B24: Ultrasonography\n",
    "- 0VJ: Inspection\n",
    "- 4A0: Measurement\n",
    "- 5A0: Assistance\n",
    "- 6A6: Phototherapy\n",
    "- 6A8: Ultraviolet Light Therapy"
   ]
  },
  {
   "cell_type": "code",
   "execution_count": 31,
   "metadata": {
    "scrolled": true
   },
   "outputs": [
    {
     "data": {
      "application/vnd.jupyter.widget-view+json": {
       "model_id": "fc929ebd7ed3422da6529980e348b0dc",
       "version_major": 2,
       "version_minor": 0
      },
      "text/plain": [
       "VBox()"
      ]
     },
     "metadata": {},
     "output_type": "display_data"
    },
    {
     "data": {
      "application/vnd.jupyter.widget-view+json": {
       "model_id": "",
       "version_major": 2,
       "version_minor": 0
      },
      "text/plain": [
       "FloatProgress(value=0.0, bar_style='info', description='Progress:', layout=Layout(height='25px', width='50%'),…"
      ]
     },
     "metadata": {},
     "output_type": "display_data"
    },
    {
     "name": "stdout",
     "output_type": "stream",
     "text": [
      "+-------+-----+\n",
      "|I10_PR1|count|\n",
      "+-------+-----+\n",
      "|0VTTXZZ|21085|\n",
      "|F13Z0ZZ|2040 |\n",
      "|3E0234Z|1644 |\n",
      "|F13ZM6Z|888  |\n",
      "|F13Z01Z|297  |\n",
      "|3E0134Z|185  |\n",
      "|F13ZL7Z|162  |\n",
      "|3E00X4Z|78   |\n",
      "|F13ZLZZ|72   |\n",
      "|F13ZN6Z|48   |\n",
      "|5A09357|45   |\n",
      "|F13Z3ZZ|40   |\n",
      "|6A600ZZ|40   |\n",
      "|6A601ZZ|38   |\n",
      "|F13ZMZZ|28   |\n",
      "|0VBTXZZ|26   |\n",
      "|F13ZQKZ|17   |\n",
      "|3E023GC|17   |\n",
      "|6A801ZZ|14   |\n",
      "|3E0334Z|13   |\n",
      "|8E0KXY7|13   |\n",
      "|0CN7XZZ|12   |\n",
      "|0VTT0ZZ|11   |\n",
      "|0BH17EZ|8    |\n",
      "|B24DZZZ|7    |\n",
      "|F13Z08Z|7    |\n",
      "|3E0F7GC|6    |\n",
      "|6A800ZZ|5    |\n",
      "|4A05XLZ|4    |\n",
      "|5A09457|4    |\n",
      "|4A03XR1|4    |\n",
      "|F13ZQZZ|4    |\n",
      "|069Y3ZZ|3    |\n",
      "|0BH18EZ|3    |\n",
      "|0VTT4ZZ|2    |\n",
      "|3E0434Z|2    |\n",
      "|5A0935Z|2    |\n",
      "|5A09557|2    |\n",
      "|0CB7XZZ|2    |\n",
      "|0YQA0ZZ|2    |\n",
      "|06HY33Z|2    |\n",
      "|3E0236Z|2    |\n",
      "|5A1935Z|2    |\n",
      "|B24BZZZ|2    |\n",
      "|3E0336Z|2    |\n",
      "|0VJSXZZ|1    |\n",
      "|4A043R1|1    |\n",
      "|0VNTXZZ|1    |\n",
      "|3E02329|1    |\n",
      "|021Q0JB|1    |\n",
      "|5A2204Z|1    |\n",
      "|3E1H38Z|1    |\n",
      "|0WQF0ZZ|1    |\n",
      "|059Y3ZZ|1    |\n",
      "|03973ZZ|1    |\n",
      "|02SW0ZZ|1    |\n",
      "|5A0955Z|1    |\n",
      "|10D00Z1|1    |\n",
      "|3E0604Z|1    |\n",
      "|02UM0JZ|1    |\n",
      "|06H033T|1    |\n",
      "|02HV33Z|1    |\n",
      "|0H51XZZ|1    |\n",
      "|06H033Z|1    |\n",
      "|009U3ZX|1    |\n",
      "|BT101ZZ|1    |\n",
      "|0CHY7BZ|1    |\n",
      "|BT0BYZZ|1    |\n",
      "|0B917ZZ|1    |\n",
      "|04H033Z|1    |\n",
      "|5A0945Z|1    |\n",
      "|00U107Z|1    |\n",
      "|3E03329|1    |\n",
      "|F13ZNZZ|1    |\n",
      "|5A12012|1    |\n",
      "|5A09358|1    |\n",
      "|4A02XFZ|1    |\n",
      "|3E0DX4Z|1    |\n",
      "|3E0504Z|1    |\n",
      "|04HY33Z|1    |\n",
      "|0CN70ZZ|1    |\n",
      "+-------+-----+\n",
      "\n"
     ]
    }
   ],
   "source": [
    "filteredDF.select(\"I10_PR1\").groupBy(\"I10_PR1\").count.sort(desc(\"count\")).show(81, false)"
   ]
  },
  {
   "cell_type": "code",
   "execution_count": 10,
   "metadata": {},
   "outputs": [
    {
     "data": {
      "application/vnd.jupyter.widget-view+json": {
       "model_id": "5db13b48e82d4b0187da0d629ec503ee",
       "version_major": 2,
       "version_minor": 0
      },
      "text/plain": [
       "VBox()"
      ]
     },
     "metadata": {},
     "output_type": "display_data"
    },
    {
     "data": {
      "application/vnd.jupyter.widget-view+json": {
       "model_id": "",
       "version_major": 2,
       "version_minor": 0
      },
      "text/plain": [
       "FloatProgress(value=0.0, bar_style='info', description='Progress:', layout=Layout(height='25px', width='50%'),…"
      ]
     },
     "metadata": {},
     "output_type": "display_data"
    },
    {
     "name": "stdout",
     "output_type": "stream",
     "text": [
      "res31: Long = 81\n"
     ]
    }
   ],
   "source": [
    "filteredDF.select(\"I10_PR1\").distinct.count"
   ]
  },
  {
   "cell_type": "markdown",
   "metadata": {},
   "source": [
    "***\n",
    "## Nominal Feature: HOSP_DIVISION\n",
    "### Census Division of Hospital\n",
    "- Division 1 (New England): Maine, New Hampshire, Vermont, Massachusetts, Rhode Island, Connecticut\n",
    "- Division 2 (Mid-Atlantic): New York, Pennsylvania, New Jersey\n",
    "- Division 3 (East North Central): Wisconsin, Michigan, Illinois, Indiana, Ohio\n",
    "- Division 4 (West North Central): Missouri, North Dakota, South Dakota, Nebraska, Kansas, Minnesota, Iowa\n",
    "- Division 5 (South Atlantic): Delaware, Maryland, District of Columbia, Virginia, West Virginia, North Carolina, South Carolina, Georgia, Florida\n",
    "- Division 6 (East South Central) Kentucky, Tennessee, Mississippi, Alabama\n",
    "- Division 7 (West South Central) Oklahoma, Texas, Arkansas, Louisiana\n",
    "- Division 8 (Mountain) Idaho, Montana, Wyoming, Nevada, Utah, Colorado, Arizona, New Mexico\n",
    "- Division 9 (Pacific) Alaska, Washington, Oregon, California, Hawaii"
   ]
  },
  {
   "cell_type": "code",
   "execution_count": 11,
   "metadata": {
    "scrolled": false
   },
   "outputs": [
    {
     "data": {
      "application/vnd.jupyter.widget-view+json": {
       "model_id": "ad6e97ce7db84ffbb899dff9372711a4",
       "version_major": 2,
       "version_minor": 0
      },
      "text/plain": [
       "VBox()"
      ]
     },
     "metadata": {},
     "output_type": "display_data"
    },
    {
     "data": {
      "application/vnd.jupyter.widget-view+json": {
       "model_id": "",
       "version_major": 2,
       "version_minor": 0
      },
      "text/plain": [
       "FloatProgress(value=0.0, bar_style='info', description='Progress:', layout=Layout(height='25px', width='50%'),…"
      ]
     },
     "metadata": {},
     "output_type": "display_data"
    },
    {
     "name": "stdout",
     "output_type": "stream",
     "text": [
      "+-------------+-----+\n",
      "|HOSP_DIVISION|count|\n",
      "+-------------+-----+\n",
      "|            3| 6494|\n",
      "|            5| 5406|\n",
      "|            2| 4654|\n",
      "|            4| 3483|\n",
      "|            7| 2548|\n",
      "|            6| 1790|\n",
      "|            9| 1057|\n",
      "|            8|  995|\n",
      "|            1|  499|\n",
      "+-------------+-----+\n",
      "\n"
     ]
    }
   ],
   "source": [
    "filteredDF.select(\"HOSP_DIVISION\").groupBy(\"HOSP_DIVISION\").count.sort(desc(\"count\")).show"
   ]
  },
  {
   "cell_type": "markdown",
   "metadata": {},
   "source": [
    "***\n",
    "## Numeric Feature: LOS\n",
    "### Length of Stay\n",
    "<p>Calculated by subtracting the admission date from the discharge date</p>"
   ]
  },
  {
   "cell_type": "code",
   "execution_count": 12,
   "metadata": {},
   "outputs": [
    {
     "data": {
      "application/vnd.jupyter.widget-view+json": {
       "model_id": "c851d87de7d342f79489d81ed56b694d",
       "version_major": 2,
       "version_minor": 0
      },
      "text/plain": [
       "VBox()"
      ]
     },
     "metadata": {},
     "output_type": "display_data"
    },
    {
     "data": {
      "application/vnd.jupyter.widget-view+json": {
       "model_id": "",
       "version_major": 2,
       "version_minor": 0
      },
      "text/plain": [
       "FloatProgress(value=0.0, bar_style='info', description='Progress:', layout=Layout(height='25px', width='50%'),…"
      ]
     },
     "metadata": {},
     "output_type": "display_data"
    },
    {
     "name": "stdout",
     "output_type": "stream",
     "text": [
      "+-------+------------------+\n",
      "|summary|               LOS|\n",
      "+-------+------------------+\n",
      "|  count|             26926|\n",
      "|   mean|2.0655500259971773|\n",
      "| stddev| 2.062796005750767|\n",
      "|    min|               0.0|\n",
      "|    max|             182.0|\n",
      "+-------+------------------+\n",
      "\n"
     ]
    }
   ],
   "source": [
    "filteredDF.select(\"LOS\").describe().show"
   ]
  },
  {
   "cell_type": "code",
   "execution_count": 27,
   "metadata": {},
   "outputs": [
    {
     "data": {
      "application/vnd.jupyter.widget-view+json": {
       "model_id": "d51d88db0db84377bdb96e7cd62e1a69",
       "version_major": 2,
       "version_minor": 0
      },
      "text/plain": [
       "VBox()"
      ]
     },
     "metadata": {},
     "output_type": "display_data"
    },
    {
     "data": {
      "application/vnd.jupyter.widget-view+json": {
       "model_id": "",
       "version_major": 2,
       "version_minor": 0
      },
      "text/plain": [
       "FloatProgress(value=0.0, bar_style='info', description='Progress:', layout=Layout(height='25px', width='50%'),…"
      ]
     },
     "metadata": {},
     "output_type": "display_data"
    },
    {
     "name": "stdout",
     "output_type": "stream",
     "text": [
      "+-------+-------+-------------+-----+\n",
      "|I10_DX1|I10_PR1|HOSP_DIVISION|  LOS|\n",
      "+-------+-------+-------------+-----+\n",
      "|  Z3831|5A09557|            5| 38.0|\n",
      "|   Z384|0BH18EZ|            5| 53.0|\n",
      "|  Z3862|04HY33Z|            5| 55.0|\n",
      "|  Z3801|3E0F7GC|            5|112.0|\n",
      "|  Z3831|0BH17EZ|            5| 78.0|\n",
      "|  Z3801|3E0F7GC|            5|182.0|\n",
      "|  Z3801|0VTTXZZ|            5| 46.0|\n",
      "|  Z3801|6A601ZZ|            5| 32.0|\n",
      "|  Z3831|6A601ZZ|            5| 65.0|\n",
      "|  Z3801|06H033T|            2| 90.0|\n",
      "|  Z3831|0YQA0ZZ|            2| 75.0|\n",
      "|  Z3862|02HV33Z|            2| 72.0|\n",
      "|  Z3800|021Q0JB|            2| 38.0|\n",
      "|  Z3800|6A601ZZ|            2| 62.0|\n",
      "|  Z3831|0BH17EZ|            2| 38.0|\n",
      "|  Z3831|6A601ZZ|            2| 59.0|\n",
      "|  Z3801|5A09557|            2| 52.0|\n",
      "+-------+-------+-------------+-----+\n",
      "\n"
     ]
    }
   ],
   "source": [
    "filteredDF.filter($\"LOS\" > 30).select(\"I10_DX1\",\"I10_PR1\",\"HOSP_DIVISION\",\"LOS\").show"
   ]
  },
  {
   "cell_type": "markdown",
   "metadata": {},
   "source": [
    "***\n",
    "***\n",
    "# Prepare Data using Spark Pipeline\n",
    "\n",
    "- indexes nominal features and maps each of those featurse to a binary vector (sparse vector).\n",
    "- combines the list of feature columns into a single vector column."
   ]
  },
  {
   "cell_type": "code",
   "execution_count": 13,
   "metadata": {},
   "outputs": [
    {
     "data": {
      "application/vnd.jupyter.widget-view+json": {
       "model_id": "76cb961a28b94bb59806cd799c66fe7f",
       "version_major": 2,
       "version_minor": 0
      },
      "text/plain": [
       "VBox()"
      ]
     },
     "metadata": {},
     "output_type": "display_data"
    },
    {
     "data": {
      "application/vnd.jupyter.widget-view+json": {
       "model_id": "",
       "version_major": 2,
       "version_minor": 0
      },
      "text/plain": [
       "FloatProgress(value=0.0, bar_style='info', description='Progress:', layout=Layout(height='25px', width='50%'),…"
      ]
     },
     "metadata": {},
     "output_type": "display_data"
    },
    {
     "name": "stdout",
     "output_type": "stream",
     "text": [
      "import scala.collection.mutable.ArrayBuffer\n",
      "stages: scala.collection.mutable.ArrayBuffer[org.apache.spark.ml.PipelineStage] = ArrayBuffer()\n",
      "charColumns: Array[String] = Array(I10_DX1, I10_PR1, HOSP_DIVISION)\n",
      "featureColumns: Array[String] = Array(LOS, I10_DX1_ENC, I10_PR1_ENC, HOSP_DIVISION_ENC)\n",
      "assembler: org.apache.spark.ml.feature.VectorAssembler = vecAssembler_f60dd9f825f7\n",
      "res43: scala.collection.mutable.ArrayBuffer[org.apache.spark.ml.PipelineStage] = ArrayBuffer(strIdx_f0620a806627, oneHotEncoder_d26b9df0e883, strIdx_da5fcd40265c, oneHotEncoder_74616586f45b, strIdx_6a2d678e532b, oneHotEncoder_2844106cfef9, vecAssembler_f60dd9f825f7)\n"
     ]
    }
   ],
   "source": [
    "import scala.collection.mutable.ArrayBuffer\n",
    "\n",
    "// array of Spark Pipeline Stages\n",
    "var stages = ArrayBuffer[PipelineStage]()\n",
    "\n",
    "// transforms nominal features\n",
    "val charColumns = Array(\"I10_DX1\",\"I10_PR1\",\"HOSP_DIVISION\")\n",
    "for(colName <- charColumns) {\n",
    "  var indexer = new StringIndexer()\n",
    "    .setInputCol(colName)\n",
    "    .setOutputCol(colName+\"_IND\")\n",
    "  var encoder = new OneHotEncoderEstimator()\n",
    "    .setInputCols(Array(indexer.getOutputCol))\n",
    "    .setOutputCols(Array(colName+\"_ENC\"))\n",
    "    .setHandleInvalid(\"keep\")\n",
    "  \n",
    "  stages += indexer\n",
    "  stages += encoder\n",
    "}\n",
    "\n",
    "// final feature columns\n",
    "val featureColumns = Array(\"LOS\",\"I10_DX1_ENC\",\"I10_PR1_ENC\",\"HOSP_DIVISION_ENC\")\n",
    "\n",
    "val assembler = new VectorAssembler().\n",
    "    setInputCols(featureColumns).\n",
    "    setOutputCol(\"features\")\n",
    "\n",
    "stages += assembler"
   ]
  },
  {
   "cell_type": "code",
   "execution_count": 14,
   "metadata": {},
   "outputs": [
    {
     "data": {
      "application/vnd.jupyter.widget-view+json": {
       "model_id": "bed74b76a0e241ec9e38a76709bcac85",
       "version_major": 2,
       "version_minor": 0
      },
      "text/plain": [
       "VBox()"
      ]
     },
     "metadata": {},
     "output_type": "display_data"
    },
    {
     "data": {
      "application/vnd.jupyter.widget-view+json": {
       "model_id": "",
       "version_major": 2,
       "version_minor": 0
      },
      "text/plain": [
       "FloatProgress(value=0.0, bar_style='info', description='Progress:', layout=Layout(height='25px', width='50%'),…"
      ]
     },
     "metadata": {},
     "output_type": "display_data"
    },
    {
     "name": "stdout",
     "output_type": "stream",
     "text": [
      "pipeline: org.apache.spark.ml.Pipeline = pipeline_7304e2cf0278\n",
      "preparedDF: org.apache.spark.sql.DataFrame = [AGE: double, AGE_NEONATE: double ... 103 more fields]\n"
     ]
    }
   ],
   "source": [
    "val pipeline = new Pipeline().setStages(stages.toArray)\n",
    "val preparedDF = pipeline.fit(filteredDF).transform(filteredDF)"
   ]
  },
  {
   "cell_type": "code",
   "execution_count": 15,
   "metadata": {},
   "outputs": [
    {
     "data": {
      "application/vnd.jupyter.widget-view+json": {
       "model_id": "06e89176569a4ec6847690421d80a5b3",
       "version_major": 2,
       "version_minor": 0
      },
      "text/plain": [
       "VBox()"
      ]
     },
     "metadata": {},
     "output_type": "display_data"
    },
    {
     "data": {
      "application/vnd.jupyter.widget-view+json": {
       "model_id": "",
       "version_major": 2,
       "version_minor": 0
      },
      "text/plain": [
       "FloatProgress(value=0.0, bar_style='info', description='Progress:', layout=Layout(height='25px', width='50%'),…"
      ]
     },
     "metadata": {},
     "output_type": "display_data"
    },
    {
     "name": "stdout",
     "output_type": "stream",
     "text": [
      "+------+---------------------------------+\n",
      "|label |features                         |\n",
      "+------+---------------------------------+\n",
      "|5933.0|(99,[0,2,9,90],[3.0,1.0,1.0,1.0])|\n",
      "|4641.0|(99,[0,1,9,90],[2.0,1.0,1.0,1.0])|\n",
      "|4839.0|(99,[0,1,9,90],[2.0,1.0,1.0,1.0])|\n",
      "|4179.0|(99,[0,1,9,90],[2.0,1.0,1.0,1.0])|\n",
      "|4179.0|(99,[0,1,9,90],[2.0,1.0,1.0,1.0])|\n",
      "|2329.0|(99,[0,1,9,90],[1.0,1.0,1.0,1.0])|\n",
      "|4259.0|(99,[0,1,9,90],[2.0,1.0,1.0,1.0])|\n",
      "|4203.0|(99,[0,1,9,90],[2.0,1.0,1.0,1.0])|\n",
      "|4135.0|(99,[0,1,9,90],[2.0,1.0,1.0,1.0])|\n",
      "|4647.0|(99,[0,1,9,90],[2.0,1.0,1.0,1.0])|\n",
      "|4179.0|(99,[0,1,9,90],[2.0,1.0,1.0,1.0])|\n",
      "|2650.0|(99,[0,1,9,90],[1.0,1.0,1.0,1.0])|\n",
      "|2444.0|(99,[0,1,9,90],[1.0,1.0,1.0,1.0])|\n",
      "|4659.0|(99,[0,2,9,90],[2.0,1.0,1.0,1.0])|\n",
      "|4573.0|(99,[0,1,9,90],[2.0,1.0,1.0,1.0])|\n",
      "|4683.0|(99,[0,1,9,90],[2.0,1.0,1.0,1.0])|\n",
      "|4675.0|(99,[0,2,9,90],[2.0,1.0,1.0,1.0])|\n",
      "|2440.0|(99,[0,1,9,90],[1.0,1.0,1.0,1.0])|\n",
      "|2222.0|(99,[0,1,9,90],[1.0,1.0,1.0,1.0])|\n",
      "|3506.0|(99,[0,2,9,90],[2.0,1.0,1.0,1.0])|\n",
      "+------+---------------------------------+\n",
      "only showing top 20 rows\n",
      "\n"
     ]
    }
   ],
   "source": [
    "preparedDF.select(\"label\",\"features\").show(false)"
   ]
  },
  {
   "cell_type": "markdown",
   "metadata": {},
   "source": [
    "***\n",
    "***\n",
    "### Check String Index and Encoded Vector for Nominal Features"
   ]
  },
  {
   "cell_type": "code",
   "execution_count": 16,
   "metadata": {},
   "outputs": [
    {
     "data": {
      "application/vnd.jupyter.widget-view+json": {
       "model_id": "6d9cf55a7e1147d69404ac37477e5067",
       "version_major": 2,
       "version_minor": 0
      },
      "text/plain": [
       "VBox()"
      ]
     },
     "metadata": {},
     "output_type": "display_data"
    },
    {
     "data": {
      "application/vnd.jupyter.widget-view+json": {
       "model_id": "",
       "version_major": 2,
       "version_minor": 0
      },
      "text/plain": [
       "FloatProgress(value=0.0, bar_style='info', description='Progress:', layout=Layout(height='25px', width='50%'),…"
      ]
     },
     "metadata": {},
     "output_type": "display_data"
    },
    {
     "name": "stdout",
     "output_type": "stream",
     "text": [
      "+-------+-----------+-------------+\n",
      "|I10_DX1|I10_DX1_IND|  I10_DX1_ENC|\n",
      "+-------+-----------+-------------+\n",
      "|   Z382|        5.0|(8,[5],[1.0])|\n",
      "|  Z3862|        6.0|(8,[6],[1.0])|\n",
      "|   Z381|        4.0|(8,[4],[1.0])|\n",
      "|  Z3800|        0.0|(8,[0],[1.0])|\n",
      "|  Z3801|        1.0|(8,[1],[1.0])|\n",
      "|   Z384|        7.0|(8,[7],[1.0])|\n",
      "|  Z3831|        2.0|(8,[2],[1.0])|\n",
      "|  Z3830|        3.0|(8,[3],[1.0])|\n",
      "+-------+-----------+-------------+\n",
      "\n"
     ]
    }
   ],
   "source": [
    "preparedDF.select(\"I10_DX1\",\"I10_DX1_IND\",\"I10_DX1_ENC\").dropDuplicates.show"
   ]
  },
  {
   "cell_type": "code",
   "execution_count": 17,
   "metadata": {},
   "outputs": [
    {
     "data": {
      "application/vnd.jupyter.widget-view+json": {
       "model_id": "bbe33b35b57649b4b24c936e89c1ab0a",
       "version_major": 2,
       "version_minor": 0
      },
      "text/plain": [
       "VBox()"
      ]
     },
     "metadata": {},
     "output_type": "display_data"
    },
    {
     "data": {
      "application/vnd.jupyter.widget-view+json": {
       "model_id": "",
       "version_major": 2,
       "version_minor": 0
      },
      "text/plain": [
       "FloatProgress(value=0.0, bar_style='info', description='Progress:', layout=Layout(height='25px', width='50%'),…"
      ]
     },
     "metadata": {},
     "output_type": "display_data"
    },
    {
     "name": "stdout",
     "output_type": "stream",
     "text": [
      "+-------+-----------+---------------+\n",
      "|I10_PR1|I10_PR1_IND|    I10_PR1_ENC|\n",
      "+-------+-----------+---------------+\n",
      "|F13ZL7Z|        6.0| (81,[6],[1.0])|\n",
      "|059Y3ZZ|       67.0|(81,[67],[1.0])|\n",
      "|5A0955Z|       78.0|(81,[78],[1.0])|\n",
      "|009U3ZX|       48.0|(81,[48],[1.0])|\n",
      "|3E023GC|       17.0|(81,[17],[1.0])|\n",
      "|10D00Z1|       63.0|(81,[63],[1.0])|\n",
      "|5A09457|       31.0|(81,[31],[1.0])|\n",
      "|00U107Z|       76.0|(81,[76],[1.0])|\n",
      "|0VNTXZZ|       69.0|(81,[69],[1.0])|\n",
      "|3E02329|       61.0|(81,[61],[1.0])|\n",
      "|3E0504Z|       54.0|(81,[54],[1.0])|\n",
      "|F13ZNZZ|       53.0|(81,[53],[1.0])|\n",
      "|4A02XFZ|       73.0|(81,[73],[1.0])|\n",
      "|5A09358|       72.0|(81,[72],[1.0])|\n",
      "|8E0KXY7|       19.0|(81,[19],[1.0])|\n",
      "|5A2204Z|       66.0|(81,[66],[1.0])|\n",
      "|0H51XZZ|       49.0|(81,[49],[1.0])|\n",
      "|4A03XR1|       28.0|(81,[28],[1.0])|\n",
      "|5A12012|       74.0|(81,[74],[1.0])|\n",
      "|0VBTXZZ|       15.0|(81,[15],[1.0])|\n",
      "+-------+-----------+---------------+\n",
      "only showing top 20 rows\n",
      "\n"
     ]
    }
   ],
   "source": [
    "preparedDF.select(\"I10_PR1\",\"I10_PR1_IND\",\"I10_PR1_ENC\").dropDuplicates.show"
   ]
  },
  {
   "cell_type": "code",
   "execution_count": 18,
   "metadata": {},
   "outputs": [
    {
     "data": {
      "application/vnd.jupyter.widget-view+json": {
       "model_id": "63ab410bd34749769e61502b5eefed55",
       "version_major": 2,
       "version_minor": 0
      },
      "text/plain": [
       "VBox()"
      ]
     },
     "metadata": {},
     "output_type": "display_data"
    },
    {
     "data": {
      "application/vnd.jupyter.widget-view+json": {
       "model_id": "",
       "version_major": 2,
       "version_minor": 0
      },
      "text/plain": [
       "FloatProgress(value=0.0, bar_style='info', description='Progress:', layout=Layout(height='25px', width='50%'),…"
      ]
     },
     "metadata": {},
     "output_type": "display_data"
    },
    {
     "name": "stdout",
     "output_type": "stream",
     "text": [
      "+-------------+-----------------+-----------------+\n",
      "|HOSP_DIVISION|HOSP_DIVISION_IND|HOSP_DIVISION_ENC|\n",
      "+-------------+-----------------+-----------------+\n",
      "|            2|              2.0|    (9,[2],[1.0])|\n",
      "|            6|              5.0|    (9,[5],[1.0])|\n",
      "|            7|              4.0|    (9,[4],[1.0])|\n",
      "|            8|              7.0|    (9,[7],[1.0])|\n",
      "|            9|              6.0|    (9,[6],[1.0])|\n",
      "|            3|              0.0|    (9,[0],[1.0])|\n",
      "|            4|              3.0|    (9,[3],[1.0])|\n",
      "|            5|              1.0|    (9,[1],[1.0])|\n",
      "|            1|              8.0|    (9,[8],[1.0])|\n",
      "+-------------+-----------------+-----------------+\n",
      "\n"
     ]
    }
   ],
   "source": [
    "preparedDF.select(\"HOSP_DIVISION\",\"HOSP_DIVISION_IND\",\"HOSP_DIVISION_ENC\").dropDuplicates.show"
   ]
  },
  {
   "cell_type": "markdown",
   "metadata": {},
   "source": [
    "***\n",
    "***\n",
    "# Split Training and Testing Data"
   ]
  },
  {
   "cell_type": "code",
   "execution_count": 19,
   "metadata": {},
   "outputs": [
    {
     "data": {
      "application/vnd.jupyter.widget-view+json": {
       "model_id": "abc8285cc83f40c1b931dda0473a1846",
       "version_major": 2,
       "version_minor": 0
      },
      "text/plain": [
       "VBox()"
      ]
     },
     "metadata": {},
     "output_type": "display_data"
    },
    {
     "data": {
      "application/vnd.jupyter.widget-view+json": {
       "model_id": "",
       "version_major": 2,
       "version_minor": 0
      },
      "text/plain": [
       "FloatProgress(value=0.0, bar_style='info', description='Progress:', layout=Layout(height='25px', width='50%'),…"
      ]
     },
     "metadata": {},
     "output_type": "display_data"
    },
    {
     "name": "stdout",
     "output_type": "stream",
     "text": [
      "randomSplitDSs: Array[org.apache.spark.sql.Dataset[org.apache.spark.sql.Row]] = Array([label: double, features: vector], [label: double, features: vector])\n",
      "trainingDS: org.apache.spark.sql.Dataset[org.apache.spark.sql.Row] = [label: double, features: vector]\n",
      "testingDS: org.apache.spark.sql.Dataset[org.apache.spark.sql.Row] = [label: double, features: vector]\n"
     ]
    }
   ],
   "source": [
    "val randomSplitDSs: Array[Dataset[Row]] = preparedDF.select(\"label\",\"features\").randomSplit(Array(0.7, 0.3), 11)\n",
    "val trainingDS: Dataset[Row] = randomSplitDSs(0)\n",
    "val testingDS: Dataset[Row] = randomSplitDSs(1)"
   ]
  },
  {
   "cell_type": "code",
   "execution_count": 20,
   "metadata": {},
   "outputs": [
    {
     "data": {
      "application/vnd.jupyter.widget-view+json": {
       "model_id": "0adb42d6e707446e9ab5e0423a93cc0e",
       "version_major": 2,
       "version_minor": 0
      },
      "text/plain": [
       "VBox()"
      ]
     },
     "metadata": {},
     "output_type": "display_data"
    },
    {
     "data": {
      "application/vnd.jupyter.widget-view+json": {
       "model_id": "",
       "version_major": 2,
       "version_minor": 0
      },
      "text/plain": [
       "FloatProgress(value=0.0, bar_style='info', description='Progress:', layout=Layout(height='25px', width='50%'),…"
      ]
     },
     "metadata": {},
     "output_type": "display_data"
    }
   ],
   "source": [
    "testingDS.select(\"label\",\"features\").\n",
    "  limit(100).\n",
    "  write.\n",
    "  format(\"libsvm\").\n",
    "  option(\"header\", \"true\").\n",
    "  mode(\"overwrite\").\n",
    "  save(\"s3://dalin-ml-pipeline/testing\")"
   ]
  },
  {
   "cell_type": "markdown",
   "metadata": {},
   "source": [
    "***\n",
    "***\n",
    "# Train and Build SageMaker Model"
   ]
  },
  {
   "cell_type": "code",
   "execution_count": 21,
   "metadata": {},
   "outputs": [
    {
     "data": {
      "application/vnd.jupyter.widget-view+json": {
       "model_id": "5fea4426dbd442659512e2b4339ab61c",
       "version_major": 2,
       "version_minor": 0
      },
      "text/plain": [
       "VBox()"
      ]
     },
     "metadata": {},
     "output_type": "display_data"
    },
    {
     "data": {
      "application/vnd.jupyter.widget-view+json": {
       "model_id": "",
       "version_major": 2,
       "version_minor": 0
      },
      "text/plain": [
       "FloatProgress(value=0.0, bar_style='info', description='Progress:', layout=Layout(height='25px', width='50%'),…"
      ]
     },
     "metadata": {},
     "output_type": "display_data"
    },
    {
     "name": "stdout",
     "output_type": "stream",
     "text": [
      "import com.amazonaws.services.sagemaker.sparksdk.{CustomNamePolicyFactory, EndpointCreationPolicy, IAMRole, S3DataPath, SageMakerModel}\n",
      "import com.amazonaws.services.sagemaker.sparksdk.algorithms.XGBoostSageMakerEstimator\n",
      "import java.time.LocalDateTime\n",
      "import java.time.format.DateTimeFormatter\n",
      "uid: String = 201911222040\n",
      "xgboostEstimator: com.amazonaws.services.sagemaker.sparksdk.algorithms.XGBoostSageMakerEstimator = sagemaker_7b5859308238\n",
      "res51: xgboostEstimator.type = sagemaker_7b5859308238\n",
      "res52: xgboostEstimator.type = sagemaker_7b5859308238\n"
     ]
    }
   ],
   "source": [
    "import com.amazonaws.services.sagemaker.sparksdk.{CustomNamePolicyFactory, EndpointCreationPolicy, IAMRole, S3DataPath, SageMakerModel}\n",
    "import com.amazonaws.services.sagemaker.sparksdk.algorithms.XGBoostSageMakerEstimator\n",
    "\n",
    "import java.time.LocalDateTime\n",
    "import java.time.format.DateTimeFormatter\n",
    "val uid = DateTimeFormatter.ofPattern(\"yyyyMMddHHmm\").format(LocalDateTime.now)\n",
    "\n",
    "val xgboostEstimator = new XGBoostSageMakerEstimator(\n",
    "  sagemakerRole=IAMRole(sageMakerRoleArn),\n",
    "  trainingInstanceType = \"ml.m4.xlarge\",\n",
    "  trainingInstanceCount = 4,\n",
    "  endpointInstanceType = \"ml.m4.xlarge\",\n",
    "  endpointInitialInstanceCount = 1,\n",
    "  trainingInputS3DataPath = S3DataPath(s3BucketName, sageMakerInputPrefix),\n",
    "  trainingOutputS3DataPath = S3DataPath(s3BucketName, sageMakerOutputPrefix),\n",
    "  endpointCreationPolicy = EndpointCreationPolicy.CREATE_ON_CONSTRUCT, // DO_NOT_CREATE\n",
    "  namePolicyFactory = new CustomNamePolicyFactory(s\"Z38-training-$uid\",\n",
    "                                                  s\"Z38-model-$uid\",\n",
    "                                                  \"Z38-endpointConfig\",\n",
    "                                                  \"Z38-endpoint\")\n",
    ")\n",
    "xgboostEstimator.setNumRound(15)\n",
    "xgboostEstimator.setObjective(\"reg:linear\")"
   ]
  },
  {
   "cell_type": "code",
   "execution_count": 22,
   "metadata": {},
   "outputs": [
    {
     "data": {
      "application/vnd.jupyter.widget-view+json": {
       "model_id": "22e7d4719a7a40ddb114cc0c359a9856",
       "version_major": 2,
       "version_minor": 0
      },
      "text/plain": [
       "VBox()"
      ]
     },
     "metadata": {},
     "output_type": "display_data"
    },
    {
     "data": {
      "application/vnd.jupyter.widget-view+json": {
       "model_id": "",
       "version_major": 2,
       "version_minor": 0
      },
      "text/plain": [
       "FloatProgress(value=0.0, bar_style='info', description='Progress:', layout=Layout(height='25px', width='50%'),…"
      ]
     },
     "metadata": {},
     "output_type": "display_data"
    },
    {
     "name": "stdout",
     "output_type": "stream",
     "text": [
      "model: com.amazonaws.services.sagemaker.sparksdk.SageMakerModel = sagemaker_7b5859308238\n"
     ]
    }
   ],
   "source": [
    "val model: SageMakerModel = xgboostEstimator.fit(trainingDS)"
   ]
  },
  {
   "cell_type": "markdown",
   "metadata": {},
   "source": [
    "***\n",
    "***\n",
    "# Evaluate Model Performance\n",
    "### Using Spark RegressionMetrics"
   ]
  },
  {
   "cell_type": "code",
   "execution_count": 23,
   "metadata": {},
   "outputs": [
    {
     "data": {
      "application/vnd.jupyter.widget-view+json": {
       "model_id": "d5c8f1b3891a4703b4fb332e3775bf56",
       "version_major": 2,
       "version_minor": 0
      },
      "text/plain": [
       "VBox()"
      ]
     },
     "metadata": {},
     "output_type": "display_data"
    },
    {
     "data": {
      "application/vnd.jupyter.widget-view+json": {
       "model_id": "",
       "version_major": 2,
       "version_minor": 0
      },
      "text/plain": [
       "FloatProgress(value=0.0, bar_style='info', description='Progress:', layout=Layout(height='25px', width='50%'),…"
      ]
     },
     "metadata": {},
     "output_type": "display_data"
    },
    {
     "name": "stdout",
     "output_type": "stream",
     "text": [
      "predictions: org.apache.spark.sql.DataFrame = [label: double, features: vector ... 1 more field]\n",
      "predictionAndLabels: org.apache.spark.rdd.RDD[(Double, Double)] = MapPartitionsRDD[207] at rdd at <console>:57\n"
     ]
    }
   ],
   "source": [
    "val predictions: DataFrame = model.transform(testingDS)\n",
    "// predictions.show(50)\n",
    "val predictionAndLabels: RDD[(Double, Double)] = predictions.select($\"label\",$\"prediction\").as[(Double, Double)].rdd"
   ]
  },
  {
   "cell_type": "code",
   "execution_count": 24,
   "metadata": {},
   "outputs": [
    {
     "data": {
      "application/vnd.jupyter.widget-view+json": {
       "model_id": "2b944b60b5a6451a946d58517f915e8c",
       "version_major": 2,
       "version_minor": 0
      },
      "text/plain": [
       "VBox()"
      ]
     },
     "metadata": {},
     "output_type": "display_data"
    },
    {
     "data": {
      "application/vnd.jupyter.widget-view+json": {
       "model_id": "",
       "version_major": 2,
       "version_minor": 0
      },
      "text/plain": [
       "FloatProgress(value=0.0, bar_style='info', description='Progress:', layout=Layout(height='25px', width='50%'),…"
      ]
     },
     "metadata": {},
     "output_type": "display_data"
    },
    {
     "name": "stdout",
     "output_type": "stream",
     "text": [
      "import org.apache.spark.mllib.evaluation.RegressionMetrics\n",
      "metrics: org.apache.spark.mllib.evaluation.RegressionMetrics = org.apache.spark.mllib.evaluation.RegressionMetrics@670b4b59\n",
      "MSE = 4.9604461806808166E7\n",
      "RMSE = 7043.043504537521\n",
      "R-squared = 0.7847868022089679\n",
      "MAE = 1765.1432736316838\n"
     ]
    }
   ],
   "source": [
    "import org.apache.spark.mllib.evaluation.RegressionMetrics\n",
    "\n",
    "// Instantiate metrics object\n",
    "val metrics = new RegressionMetrics(predictionAndLabels)\n",
    "\n",
    "// Squared error\n",
    "println(s\"MSE = ${metrics.meanSquaredError}\")\n",
    "println(s\"RMSE = ${metrics.rootMeanSquaredError}\")\n",
    "\n",
    "// R-squared\n",
    "println(s\"R-squared = ${metrics.r2}\")\n",
    "\n",
    "// Mean absolute error\n",
    "println(s\"MAE = ${metrics.meanAbsoluteError}\")"
   ]
  },
  {
   "cell_type": "markdown",
   "metadata": {},
   "source": [
    "# Clean up SageMaker Resources\n",
    "#### Deletes SageMakerModel, Endpoint Configuration, and Endpoint created by the SageMakerModel"
   ]
  },
  {
   "cell_type": "code",
   "execution_count": 25,
   "metadata": {},
   "outputs": [
    {
     "data": {
      "application/vnd.jupyter.widget-view+json": {
       "model_id": "b88b717bb0e84fe5b90170bb9f4c6ef9",
       "version_major": 2,
       "version_minor": 0
      },
      "text/plain": [
       "VBox()"
      ]
     },
     "metadata": {},
     "output_type": "display_data"
    },
    {
     "data": {
      "application/vnd.jupyter.widget-view+json": {
       "model_id": "",
       "version_major": 2,
       "version_minor": 0
      },
      "text/plain": [
       "FloatProgress(value=0.0, bar_style='info', description='Progress:', layout=Layout(height='25px', width='50%'),…"
      ]
     },
     "metadata": {},
     "output_type": "display_data"
    },
    {
     "name": "stdout",
     "output_type": "stream",
     "text": [
      "import com.amazonaws.services.sagemaker.sparksdk.SageMakerResourceCleanup\n",
      "resource_cleanup: com.amazonaws.services.sagemaker.sparksdk.SageMakerResourceCleanup = com.amazonaws.services.sagemaker.sparksdk.SageMakerResourceCleanup@5c026146\n"
     ]
    }
   ],
   "source": [
    "import com.amazonaws.services.sagemaker.sparksdk.SageMakerResourceCleanup\n",
    "\n",
    "val resource_cleanup = new SageMakerResourceCleanup(model.sagemakerClient)\n",
    "resource_cleanup.deleteResources(model.getCreatedResources)"
   ]
  }
 ],
 "metadata": {
  "kernelspec": {
   "display_name": "Spark",
   "language": "",
   "name": "sparkkernel"
  },
  "language_info": {
   "codemirror_mode": "text/x-scala",
   "mimetype": "text/x-scala",
   "name": "scala",
   "pygments_lexer": "scala"
  }
 },
 "nbformat": 4,
 "nbformat_minor": 2
}
